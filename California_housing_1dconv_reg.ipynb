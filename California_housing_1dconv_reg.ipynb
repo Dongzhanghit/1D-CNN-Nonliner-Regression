{
  "nbformat": 4,
  "nbformat_minor": 0,
  "metadata": {
    "colab": {
      "name": "California_housing_1dconv_reg.ipynb",
      "provenance": [],
      "collapsed_sections": []
    },
    "kernelspec": {
      "name": "python3",
      "display_name": "Python 3"
    },
    "accelerator": "GPU"
  },
  "cells": [
    {
      "cell_type": "code",
      "metadata": {
        "id": "gbPmv7_cFoos",
        "colab_type": "code",
        "colab": {}
      },
      "source": [
        "#from google.colab import drive\n",
        "#drive.mount('/content/gdrive')"
      ],
      "execution_count": 0,
      "outputs": []
    },
    {
      "cell_type": "code",
      "metadata": {
        "id": "nRJy_ceCWbGJ",
        "colab_type": "code",
        "colab": {
          "base_uri": "https://localhost:8080/",
          "height": 80
        },
        "outputId": "1214c43f-f152-402b-e158-58f0327e2cf9"
      },
      "source": [
        "import tensorflow as tf\n",
        "import keras\n",
        "import pandas as pd\n",
        "import numpy as np\n",
        "from numpy import array\n",
        "import matplotlib.pyplot as plt\n",
        "from sklearn.model_selection import train_test_split\n",
        "from sklearn.preprocessing import StandardScaler"
      ],
      "execution_count": 2,
      "outputs": [
        {
          "output_type": "display_data",
          "data": {
            "text/html": [
              "<p style=\"color: red;\">\n",
              "The default version of TensorFlow in Colab will soon switch to TensorFlow 2.x.<br>\n",
              "We recommend you <a href=\"https://www.tensorflow.org/guide/migrate\" target=\"_blank\">upgrade</a> now \n",
              "or ensure your notebook will continue to use TensorFlow 1.x via the <code>%tensorflow_version 1.x</code> magic:\n",
              "<a href=\"https://colab.research.google.com/notebooks/tensorflow_version.ipynb\" target=\"_blank\">more info</a>.</p>\n"
            ],
            "text/plain": [
              "<IPython.core.display.HTML object>"
            ]
          },
          "metadata": {
            "tags": []
          }
        },
        {
          "output_type": "stream",
          "text": [
            "Using TensorFlow backend.\n"
          ],
          "name": "stderr"
        }
      ]
    },
    {
      "cell_type": "code",
      "metadata": {
        "id": "gTABq73YYRuo",
        "colab_type": "code",
        "colab": {}
      },
      "source": [
        "url = 'https://raw.githubusercontent.com/ageron/handson-ml/master/datasets/housing/housing.csv'\n",
        "df = pd.read_csv(url)\n",
        "df=df.dropna() # Drop unlear data\n",
        "# Dataset is now stored in a Pandas Dataframe"
      ],
      "execution_count": 0,
      "outputs": []
    },
    {
      "cell_type": "code",
      "metadata": {
        "id": "2Rap7TMMYyr6",
        "colab_type": "code",
        "outputId": "6d2f1584-1265-4d82-bd23-c32b47ad8284",
        "colab": {
          "base_uri": "https://localhost:8080/",
          "height": 379
        }
      },
      "source": [
        "# Print the first ten records of the dataset\n",
        "df.head(10)"
      ],
      "execution_count": 4,
      "outputs": [
        {
          "output_type": "execute_result",
          "data": {
            "text/html": [
              "<div>\n",
              "<style scoped>\n",
              "    .dataframe tbody tr th:only-of-type {\n",
              "        vertical-align: middle;\n",
              "    }\n",
              "\n",
              "    .dataframe tbody tr th {\n",
              "        vertical-align: top;\n",
              "    }\n",
              "\n",
              "    .dataframe thead th {\n",
              "        text-align: right;\n",
              "    }\n",
              "</style>\n",
              "<table border=\"1\" class=\"dataframe\">\n",
              "  <thead>\n",
              "    <tr style=\"text-align: right;\">\n",
              "      <th></th>\n",
              "      <th>longitude</th>\n",
              "      <th>latitude</th>\n",
              "      <th>housing_median_age</th>\n",
              "      <th>total_rooms</th>\n",
              "      <th>total_bedrooms</th>\n",
              "      <th>population</th>\n",
              "      <th>households</th>\n",
              "      <th>median_income</th>\n",
              "      <th>median_house_value</th>\n",
              "      <th>ocean_proximity</th>\n",
              "    </tr>\n",
              "  </thead>\n",
              "  <tbody>\n",
              "    <tr>\n",
              "      <th>0</th>\n",
              "      <td>-122.23</td>\n",
              "      <td>37.88</td>\n",
              "      <td>41.0</td>\n",
              "      <td>880.0</td>\n",
              "      <td>129.0</td>\n",
              "      <td>322.0</td>\n",
              "      <td>126.0</td>\n",
              "      <td>8.3252</td>\n",
              "      <td>452600.0</td>\n",
              "      <td>NEAR BAY</td>\n",
              "    </tr>\n",
              "    <tr>\n",
              "      <th>1</th>\n",
              "      <td>-122.22</td>\n",
              "      <td>37.86</td>\n",
              "      <td>21.0</td>\n",
              "      <td>7099.0</td>\n",
              "      <td>1106.0</td>\n",
              "      <td>2401.0</td>\n",
              "      <td>1138.0</td>\n",
              "      <td>8.3014</td>\n",
              "      <td>358500.0</td>\n",
              "      <td>NEAR BAY</td>\n",
              "    </tr>\n",
              "    <tr>\n",
              "      <th>2</th>\n",
              "      <td>-122.24</td>\n",
              "      <td>37.85</td>\n",
              "      <td>52.0</td>\n",
              "      <td>1467.0</td>\n",
              "      <td>190.0</td>\n",
              "      <td>496.0</td>\n",
              "      <td>177.0</td>\n",
              "      <td>7.2574</td>\n",
              "      <td>352100.0</td>\n",
              "      <td>NEAR BAY</td>\n",
              "    </tr>\n",
              "    <tr>\n",
              "      <th>3</th>\n",
              "      <td>-122.25</td>\n",
              "      <td>37.85</td>\n",
              "      <td>52.0</td>\n",
              "      <td>1274.0</td>\n",
              "      <td>235.0</td>\n",
              "      <td>558.0</td>\n",
              "      <td>219.0</td>\n",
              "      <td>5.6431</td>\n",
              "      <td>341300.0</td>\n",
              "      <td>NEAR BAY</td>\n",
              "    </tr>\n",
              "    <tr>\n",
              "      <th>4</th>\n",
              "      <td>-122.25</td>\n",
              "      <td>37.85</td>\n",
              "      <td>52.0</td>\n",
              "      <td>1627.0</td>\n",
              "      <td>280.0</td>\n",
              "      <td>565.0</td>\n",
              "      <td>259.0</td>\n",
              "      <td>3.8462</td>\n",
              "      <td>342200.0</td>\n",
              "      <td>NEAR BAY</td>\n",
              "    </tr>\n",
              "    <tr>\n",
              "      <th>5</th>\n",
              "      <td>-122.25</td>\n",
              "      <td>37.85</td>\n",
              "      <td>52.0</td>\n",
              "      <td>919.0</td>\n",
              "      <td>213.0</td>\n",
              "      <td>413.0</td>\n",
              "      <td>193.0</td>\n",
              "      <td>4.0368</td>\n",
              "      <td>269700.0</td>\n",
              "      <td>NEAR BAY</td>\n",
              "    </tr>\n",
              "    <tr>\n",
              "      <th>6</th>\n",
              "      <td>-122.25</td>\n",
              "      <td>37.84</td>\n",
              "      <td>52.0</td>\n",
              "      <td>2535.0</td>\n",
              "      <td>489.0</td>\n",
              "      <td>1094.0</td>\n",
              "      <td>514.0</td>\n",
              "      <td>3.6591</td>\n",
              "      <td>299200.0</td>\n",
              "      <td>NEAR BAY</td>\n",
              "    </tr>\n",
              "    <tr>\n",
              "      <th>7</th>\n",
              "      <td>-122.25</td>\n",
              "      <td>37.84</td>\n",
              "      <td>52.0</td>\n",
              "      <td>3104.0</td>\n",
              "      <td>687.0</td>\n",
              "      <td>1157.0</td>\n",
              "      <td>647.0</td>\n",
              "      <td>3.1200</td>\n",
              "      <td>241400.0</td>\n",
              "      <td>NEAR BAY</td>\n",
              "    </tr>\n",
              "    <tr>\n",
              "      <th>8</th>\n",
              "      <td>-122.26</td>\n",
              "      <td>37.84</td>\n",
              "      <td>42.0</td>\n",
              "      <td>2555.0</td>\n",
              "      <td>665.0</td>\n",
              "      <td>1206.0</td>\n",
              "      <td>595.0</td>\n",
              "      <td>2.0804</td>\n",
              "      <td>226700.0</td>\n",
              "      <td>NEAR BAY</td>\n",
              "    </tr>\n",
              "    <tr>\n",
              "      <th>9</th>\n",
              "      <td>-122.25</td>\n",
              "      <td>37.84</td>\n",
              "      <td>52.0</td>\n",
              "      <td>3549.0</td>\n",
              "      <td>707.0</td>\n",
              "      <td>1551.0</td>\n",
              "      <td>714.0</td>\n",
              "      <td>3.6912</td>\n",
              "      <td>261100.0</td>\n",
              "      <td>NEAR BAY</td>\n",
              "    </tr>\n",
              "  </tbody>\n",
              "</table>\n",
              "</div>"
            ],
            "text/plain": [
              "   longitude  latitude  ...  median_house_value  ocean_proximity\n",
              "0    -122.23     37.88  ...            452600.0         NEAR BAY\n",
              "1    -122.22     37.86  ...            358500.0         NEAR BAY\n",
              "2    -122.24     37.85  ...            352100.0         NEAR BAY\n",
              "3    -122.25     37.85  ...            341300.0         NEAR BAY\n",
              "4    -122.25     37.85  ...            342200.0         NEAR BAY\n",
              "5    -122.25     37.85  ...            269700.0         NEAR BAY\n",
              "6    -122.25     37.84  ...            299200.0         NEAR BAY\n",
              "7    -122.25     37.84  ...            241400.0         NEAR BAY\n",
              "8    -122.26     37.84  ...            226700.0         NEAR BAY\n",
              "9    -122.25     37.84  ...            261100.0         NEAR BAY\n",
              "\n",
              "[10 rows x 10 columns]"
            ]
          },
          "metadata": {
            "tags": []
          },
          "execution_count": 4
        }
      ]
    },
    {
      "cell_type": "code",
      "metadata": {
        "id": "-HRGaHAfY90e",
        "colab_type": "code",
        "outputId": "292bcf35-ba97-40a1-998b-5c38b5430a10",
        "colab": {
          "base_uri": "https://localhost:8080/",
          "height": 448
        }
      },
      "source": [
        "# Print each feature of the dataset\n",
        "plt.style.use('ggplot')\n",
        "df.head(19).plot(subplots=True, title='Plot Several Raw Data')"
      ],
      "execution_count": 5,
      "outputs": [
        {
          "output_type": "execute_result",
          "data": {
            "text/plain": [
              "array([<matplotlib.axes._subplots.AxesSubplot object at 0x7f1456cf5470>,\n",
              "       <matplotlib.axes._subplots.AxesSubplot object at 0x7f1456cd5908>,\n",
              "       <matplotlib.axes._subplots.AxesSubplot object at 0x7f1456c8bd68>,\n",
              "       <matplotlib.axes._subplots.AxesSubplot object at 0x7f1456c49208>,\n",
              "       <matplotlib.axes._subplots.AxesSubplot object at 0x7f1456bfa668>,\n",
              "       <matplotlib.axes._subplots.AxesSubplot object at 0x7f1456c29ac8>,\n",
              "       <matplotlib.axes._subplots.AxesSubplot object at 0x7f1456bddf28>,\n",
              "       <matplotlib.axes._subplots.AxesSubplot object at 0x7f1456b9a400>,\n",
              "       <matplotlib.axes._subplots.AxesSubplot object at 0x7f1456b9a438>],\n",
              "      dtype=object)"
            ]
          },
          "metadata": {
            "tags": []
          },
          "execution_count": 5
        },
        {
          "output_type": "display_data",
          "data": {
            "image/png": "[encoded data removed]",
            "text/plain": [
              "<Figure size 432x288 with 9 Axes>"
            ]
          },
          "metadata": {
            "tags": []
          }
        }
      ]
    },
    {
      "cell_type": "code",
      "metadata": {
        "id": "EHssvlFpz1Z6",
        "colab_type": "code",
        "colab": {}
      },
      "source": [
        "# Resacle the median_income \n",
        "X_in=df['median_income']\n",
        "X_in=X_in*10000\n",
        "df['median_income']=X_in"
      ],
      "execution_count": 0,
      "outputs": []
    },
    {
      "cell_type": "code",
      "metadata": {
        "id": "tm1h-XVC1swh",
        "colab_type": "code",
        "colab": {
          "base_uri": "https://localhost:8080/",
          "height": 221
        },
        "outputId": "5a4ad952-b399-410b-b54f-a60563b3cce9"
      },
      "source": [
        "# Check the data after scale\n",
        "df['median_income']"
      ],
      "execution_count": 7,
      "outputs": [
        {
          "output_type": "execute_result",
          "data": {
            "text/plain": [
              "0        83252.0\n",
              "1        83014.0\n",
              "2        72574.0\n",
              "3        56431.0\n",
              "4        38462.0\n",
              "          ...   \n",
              "20635    15603.0\n",
              "20636    25568.0\n",
              "20637    17000.0\n",
              "20638    18672.0\n",
              "20639    23886.0\n",
              "Name: median_income, Length: 20433, dtype: float64"
            ]
          },
          "metadata": {
            "tags": []
          },
          "execution_count": 7
        }
      ]
    },
    {
      "cell_type": "code",
      "metadata": {
        "id": "IEK9N5XrktZB",
        "colab_type": "code",
        "colab": {}
      },
      "source": [
        "# Get the raw data\n",
        "Y=df['median_house_value'] # output data from the 9th column\n",
        "X=df.loc[:,'longitude':'median_income']# input data from the 1st column to the 8th column"
      ],
      "execution_count": 0,
      "outputs": []
    },
    {
      "cell_type": "code",
      "metadata": {
        "id": "mb38oe0yj7Mj",
        "colab_type": "code",
        "colab": {}
      },
      "source": [
        "# Get the input and output data and convert to np arraies\n",
        "x_train,x_test,y_train,y_test=train_test_split(X, Y, test_size=0.3, random_state=2003)\n",
        "x_train=x_train.to_numpy()\n",
        "x_test=x_test.to_numpy()\n",
        "y_train=y_train.to_numpy()\n",
        "y_test=y_test.to_numpy()"
      ],
      "execution_count": 0,
      "outputs": []
    },
    {
      "cell_type": "code",
      "metadata": {
        "id": "JY6fUpEnsBSt",
        "colab_type": "code",
        "colab": {}
      },
      "source": [
        "# Preprocess and normalize the raw data for training and testing\n",
        "standard_x=StandardScaler()\n",
        "x_train=standard_x.fit_transform(x_train)\n",
        "x_test=standard_x.fit_transform(x_test)"
      ],
      "execution_count": 0,
      "outputs": []
    },
    {
      "cell_type": "code",
      "metadata": {
        "id": "JzrSP3daB1pi",
        "colab_type": "code",
        "colab": {}
      },
      "source": [
        "# Reshape the datasets to fit in the Conv1D layer\n",
        "x_train=x_train.reshape( x_train.shape[0], x_train.shape[1], 1)\n",
        "x_test=x_test.reshape( x_test.shape[0], x_test.shape[1], 1)\n",
        "y_train=y_train.reshape( y_train.shape[0], 1)\n",
        "y_test=y_test.reshape( y_test.shape[0], 1)"
      ],
      "execution_count": 0,
      "outputs": []
    },
    {
      "cell_type": "code",
      "metadata": {
        "id": "iN_q2QaQqvvz",
        "colab_type": "code",
        "outputId": "a74c9bb2-4894-48d6-8dc0-d2e3b55362df",
        "colab": {
          "base_uri": "https://localhost:8080/",
          "height": 102
        }
      },
      "source": [
        "# Size of the datasets\n",
        "print('x_train:',x_train.shape,'\\n', 'y_train:', y_train.shape, '\\n',\n",
        "      'x_test:', x_test.shape, '\\n', 'y_test:', y_test.shape,'\\n')"
      ],
      "execution_count": 12,
      "outputs": [
        {
          "output_type": "stream",
          "text": [
            "x_train: (14303, 8, 1) \n",
            " y_train: (14303, 1) \n",
            " x_test: (6130, 8, 1) \n",
            " y_test: (6130, 1) \n",
            "\n"
          ],
          "name": "stdout"
        }
      ]
    },
    {
      "cell_type": "code",
      "metadata": {
        "id": "asN9x2mhocCD",
        "colab_type": "code",
        "outputId": "b9145edf-ad0c-4dad-e647-b934f9a3879e",
        "colab": {
          "base_uri": "https://localhost:8080/",
          "height": 153
        }
      },
      "source": [
        "# Check the input data after normalization \n",
        "print(x_train[:1])"
      ],
      "execution_count": 13,
      "outputs": [
        {
          "output_type": "stream",
          "text": [
            "[[[-1.4705277 ]\n",
            "  [ 1.05454652]\n",
            "  [-0.9240538 ]\n",
            "  [ 0.78379359]\n",
            "  [ 1.19566007]\n",
            "  [ 0.18534899]\n",
            "  [ 1.27417708]\n",
            "  [ 0.04424569]]]\n"
          ],
          "name": "stdout"
        }
      ]
    },
    {
      "cell_type": "code",
      "metadata": {
        "id": "g3HseCVemHLz",
        "colab_type": "code",
        "colab": {}
      },
      "source": [
        "# Customize the R2 score metric\n",
        "from keras import backend as K\n",
        "def R2SCORE(y_true, y_pred):\n",
        "    SS_res =  K.sum(K.square( y_true-y_pred )) \n",
        "    SS_tot = K.sum(K.square( y_true - K.mean(y_true) ) ) \n",
        "    return ( 1 - SS_res/(SS_tot + K.epsilon()) )"
      ],
      "execution_count": 0,
      "outputs": []
    },
    {
      "cell_type": "code",
      "metadata": {
        "id": "LpZnLL8ChJd8",
        "colab_type": "code",
        "colab": {
          "base_uri": "https://localhost:8080/",
          "height": 292
        },
        "outputId": "e78b6264-9710-459a-d093-694f9dae86ff"
      },
      "source": [
        "# Build the CNN model\n",
        "\n",
        "#from keras import regularizers\n",
        "from keras.models import Sequential\n",
        "from keras.layers import Dense, Dropout, Flatten\n",
        "from keras.layers import Embedding\n",
        "from keras.layers import Conv1D, MaxPooling1D\n",
        "\n",
        "model = Sequential()\n",
        "model.add(Conv1D(128, 2, input_shape=(8, 1), activation='relu'))\n",
        "model.add(Conv1D(128, 2, activation='relu'))\n",
        "model.add(Dropout(0.5))\n",
        "model.add(MaxPooling1D(2))\n",
        "model.add(Conv1D(256, 2, activation='relu'))\n",
        "model.add(MaxPooling1D(2))\n",
        "model.add(Dropout(0.5))\n",
        "model.add(Flatten())\n",
        "model.add(Dense(128, activation='relu'))\n",
        "#model.add(Dense(128, activation='relu', kernel_regularizer=regularizers.l2(0.0001)))\n",
        "#model.add(Dropout(0.3))\n",
        "model.add(Dense(64, activation='relu'))\n",
        "#model.add(Dense(64, activation='relu', kernel_regularizer=regularizers.l1(0.0001)))\n",
        "#model.add(Dropout(0.3))\n",
        "model.add(Dense(32, activation='relu'))\n",
        "model.add(Dense(1))\n",
        "\n",
        "\n",
        "\n",
        "model.compile(optimizer='adam',\n",
        "              loss='mae',\n",
        "              metrics=[R2SCORE])"
      ],
      "execution_count": 15,
      "outputs": [
        {
          "output_type": "stream",
          "text": [
            "WARNING:tensorflow:From /usr/local/lib/python3.6/dist-packages/keras/backend/tensorflow_backend.py:66: The name tf.get_default_graph is deprecated. Please use tf.compat.v1.get_default_graph instead.\n",
            "\n",
            "WARNING:tensorflow:From /usr/local/lib/python3.6/dist-packages/keras/backend/tensorflow_backend.py:541: The name tf.placeholder is deprecated. Please use tf.compat.v1.placeholder instead.\n",
            "\n",
            "WARNING:tensorflow:From /usr/local/lib/python3.6/dist-packages/keras/backend/tensorflow_backend.py:4432: The name tf.random_uniform is deprecated. Please use tf.random.uniform instead.\n",
            "\n",
            "WARNING:tensorflow:From /usr/local/lib/python3.6/dist-packages/keras/backend/tensorflow_backend.py:148: The name tf.placeholder_with_default is deprecated. Please use tf.compat.v1.placeholder_with_default instead.\n",
            "\n",
            "WARNING:tensorflow:From /usr/local/lib/python3.6/dist-packages/keras/backend/tensorflow_backend.py:3733: calling dropout (from tensorflow.python.ops.nn_ops) with keep_prob is deprecated and will be removed in a future version.\n",
            "Instructions for updating:\n",
            "Please use `rate` instead of `keep_prob`. Rate should be set to `rate = 1 - keep_prob`.\n",
            "WARNING:tensorflow:From /usr/local/lib/python3.6/dist-packages/keras/backend/tensorflow_backend.py:4267: The name tf.nn.max_pool is deprecated. Please use tf.nn.max_pool2d instead.\n",
            "\n",
            "WARNING:tensorflow:From /usr/local/lib/python3.6/dist-packages/keras/optimizers.py:793: The name tf.train.Optimizer is deprecated. Please use tf.compat.v1.train.Optimizer instead.\n",
            "\n"
          ],
          "name": "stdout"
        }
      ]
    },
    {
      "cell_type": "code",
      "metadata": {
        "id": "IGiAW0voAYU-",
        "colab_type": "code",
        "outputId": "cb644318-2df0-431f-e667-f4175df4578a",
        "colab": {
          "base_uri": "https://localhost:8080/",
          "height": 561
        }
      },
      "source": [
        "# Get the model summary\n",
        "model.summary()"
      ],
      "execution_count": 16,
      "outputs": [
        {
          "output_type": "stream",
          "text": [
            "Model: \"sequential_1\"\n",
            "_________________________________________________________________\n",
            "Layer (type)                 Output Shape              Param #   \n",
            "=================================================================\n",
            "conv1d_1 (Conv1D)            (None, 7, 128)            384       \n",
            "_________________________________________________________________\n",
            "conv1d_2 (Conv1D)            (None, 6, 128)            32896     \n",
            "_________________________________________________________________\n",
            "dropout_1 (Dropout)          (None, 6, 128)            0         \n",
            "_________________________________________________________________\n",
            "max_pooling1d_1 (MaxPooling1 (None, 3, 128)            0         \n",
            "_________________________________________________________________\n",
            "conv1d_3 (Conv1D)            (None, 2, 256)            65792     \n",
            "_________________________________________________________________\n",
            "max_pooling1d_2 (MaxPooling1 (None, 1, 256)            0         \n",
            "_________________________________________________________________\n",
            "dropout_2 (Dropout)          (None, 1, 256)            0         \n",
            "_________________________________________________________________\n",
            "flatten_1 (Flatten)          (None, 256)               0         \n",
            "_________________________________________________________________\n",
            "dense_1 (Dense)              (None, 128)               32896     \n",
            "_________________________________________________________________\n",
            "dense_2 (Dense)              (None, 64)                8256      \n",
            "_________________________________________________________________\n",
            "dense_3 (Dense)              (None, 32)                2080      \n",
            "_________________________________________________________________\n",
            "dense_4 (Dense)              (None, 1)                 33        \n",
            "=================================================================\n",
            "Total params: 142,337\n",
            "Trainable params: 142,337\n",
            "Non-trainable params: 0\n",
            "_________________________________________________________________\n"
          ],
          "name": "stdout"
        }
      ]
    },
    {
      "cell_type": "code",
      "metadata": {
        "id": "M5OSTVwZtjFy",
        "colab_type": "code",
        "outputId": "ec06f4d4-27dd-41bf-b1a8-aa36f3b463b9",
        "colab": {
          "base_uri": "https://localhost:8080/",
          "height": 1000
        }
      },
      "source": [
        "# Set up training epochs and start training and evaluate the model after each epoch\n",
        "epochs=150\n",
        "history=model.fit(x_train, y_train, epochs=epochs, batch_size=64, validation_data=(x_test, y_test))"
      ],
      "execution_count": 17,
      "outputs": [
        {
          "output_type": "stream",
          "text": [
            "WARNING:tensorflow:From /usr/local/lib/python3.6/dist-packages/keras/backend/tensorflow_backend.py:1033: The name tf.assign_add is deprecated. Please use tf.compat.v1.assign_add instead.\n",
            "\n",
            "WARNING:tensorflow:From /usr/local/lib/python3.6/dist-packages/keras/backend/tensorflow_backend.py:1020: The name tf.assign is deprecated. Please use tf.compat.v1.assign instead.\n",
            "\n",
            "WARNING:tensorflow:From /usr/local/lib/python3.6/dist-packages/keras/backend/tensorflow_backend.py:3005: The name tf.Session is deprecated. Please use tf.compat.v1.Session instead.\n",
            "\n",
            "Train on 14303 samples, validate on 6130 samples\n",
            "Epoch 1/150\n",
            "WARNING:tensorflow:From /usr/local/lib/python3.6/dist-packages/keras/backend/tensorflow_backend.py:190: The name tf.get_default_session is deprecated. Please use tf.compat.v1.get_default_session instead.\n",
            "\n",
            "WARNING:tensorflow:From /usr/local/lib/python3.6/dist-packages/keras/backend/tensorflow_backend.py:197: The name tf.ConfigProto is deprecated. Please use tf.compat.v1.ConfigProto instead.\n",
            "\n",
            "WARNING:tensorflow:From /usr/local/lib/python3.6/dist-packages/keras/backend/tensorflow_backend.py:207: The name tf.global_variables is deprecated. Please use tf.compat.v1.global_variables instead.\n",
            "\n",
            "WARNING:tensorflow:From /usr/local/lib/python3.6/dist-packages/keras/backend/tensorflow_backend.py:216: The name tf.is_variable_initialized is deprecated. Please use tf.compat.v1.is_variable_initialized instead.\n",
            "\n",
            "WARNING:tensorflow:From /usr/local/lib/python3.6/dist-packages/keras/backend/tensorflow_backend.py:223: The name tf.variables_initializer is deprecated. Please use tf.compat.v1.variables_initializer instead.\n",
            "\n",
            "14303/14303 [==============================] - 4s 260us/step - loss: 119178.5289 - R2SCORE: -0.9086 - val_loss: 100841.5017 - val_R2SCORE: -0.4856\n",
            "Epoch 2/150\n",
            "14303/14303 [==============================] - 1s 96us/step - loss: 82579.8371 - R2SCORE: 0.0660 - val_loss: 82788.8164 - val_R2SCORE: -0.0049\n",
            "Epoch 3/150\n",
            "14303/14303 [==============================] - 1s 87us/step - loss: 71851.7061 - R2SCORE: 0.2347 - val_loss: 77645.2184 - val_R2SCORE: 0.0956\n",
            "Epoch 4/150\n",
            "14303/14303 [==============================] - 1s 87us/step - loss: 69918.9796 - R2SCORE: 0.2920 - val_loss: 74476.0405 - val_R2SCORE: 0.1595\n",
            "Epoch 5/150\n",
            "14303/14303 [==============================] - 1s 89us/step - loss: 68861.9039 - R2SCORE: 0.3167 - val_loss: 74173.5640 - val_R2SCORE: 0.1663\n",
            "Epoch 6/150\n",
            "14303/14303 [==============================] - 1s 90us/step - loss: 68340.8902 - R2SCORE: 0.3310 - val_loss: 74605.2224 - val_R2SCORE: 0.1599\n",
            "Epoch 7/150\n",
            "14303/14303 [==============================] - 1s 92us/step - loss: 66911.8598 - R2SCORE: 0.3622 - val_loss: 71917.6042 - val_R2SCORE: 0.2205\n",
            "Epoch 8/150\n",
            "14303/14303 [==============================] - 1s 87us/step - loss: 65481.8861 - R2SCORE: 0.3893 - val_loss: 71127.0570 - val_R2SCORE: 0.2371\n",
            "Epoch 9/150\n",
            "14303/14303 [==============================] - 1s 87us/step - loss: 64142.8129 - R2SCORE: 0.4123 - val_loss: 64371.4432 - val_R2SCORE: 0.3796\n",
            "Epoch 10/150\n",
            "14303/14303 [==============================] - 1s 90us/step - loss: 63409.1794 - R2SCORE: 0.4298 - val_loss: 67768.8983 - val_R2SCORE: 0.3071\n",
            "Epoch 11/150\n",
            "14303/14303 [==============================] - 1s 84us/step - loss: 62887.4942 - R2SCORE: 0.4356 - val_loss: 70323.9619 - val_R2SCORE: 0.2662\n",
            "Epoch 12/150\n",
            "14303/14303 [==============================] - 1s 89us/step - loss: 61969.8616 - R2SCORE: 0.4544 - val_loss: 66505.1847 - val_R2SCORE: 0.3343\n",
            "Epoch 13/150\n",
            "14303/14303 [==============================] - 1s 90us/step - loss: 61775.6297 - R2SCORE: 0.4519 - val_loss: 66872.0456 - val_R2SCORE: 0.3299\n",
            "Epoch 14/150\n",
            "14303/14303 [==============================] - 1s 87us/step - loss: 60647.6689 - R2SCORE: 0.4726 - val_loss: 63894.6649 - val_R2SCORE: 0.3831\n",
            "Epoch 15/150\n",
            "14303/14303 [==============================] - 1s 87us/step - loss: 60676.8617 - R2SCORE: 0.4727 - val_loss: 63428.1293 - val_R2SCORE: 0.3936\n",
            "Epoch 16/150\n",
            "14303/14303 [==============================] - 1s 88us/step - loss: 60025.6054 - R2SCORE: 0.4803 - val_loss: 64320.5603 - val_R2SCORE: 0.3751\n",
            "Epoch 17/150\n",
            "14303/14303 [==============================] - 1s 89us/step - loss: 59962.4942 - R2SCORE: 0.4820 - val_loss: 62536.0760 - val_R2SCORE: 0.4111\n",
            "Epoch 18/150\n",
            "14303/14303 [==============================] - 1s 86us/step - loss: 59602.9100 - R2SCORE: 0.4860 - val_loss: 65305.1824 - val_R2SCORE: 0.3590\n",
            "Epoch 19/150\n",
            "14303/14303 [==============================] - 1s 86us/step - loss: 59464.8547 - R2SCORE: 0.4893 - val_loss: 60478.2641 - val_R2SCORE: 0.4482\n",
            "Epoch 20/150\n",
            "14303/14303 [==============================] - 2s 105us/step - loss: 58951.0740 - R2SCORE: 0.4990 - val_loss: 61036.5726 - val_R2SCORE: 0.4315\n",
            "Epoch 21/150\n",
            "14303/14303 [==============================] - 1s 86us/step - loss: 58515.2289 - R2SCORE: 0.5049 - val_loss: 62350.4891 - val_R2SCORE: 0.4080\n",
            "Epoch 22/150\n",
            "14303/14303 [==============================] - 1s 83us/step - loss: 58040.3776 - R2SCORE: 0.5059 - val_loss: 56358.7673 - val_R2SCORE: 0.5167\n",
            "Epoch 23/150\n",
            "14303/14303 [==============================] - 1s 84us/step - loss: 57685.8893 - R2SCORE: 0.5190 - val_loss: 55482.3294 - val_R2SCORE: 0.5316\n",
            "Epoch 24/150\n",
            "14303/14303 [==============================] - 2s 110us/step - loss: 57538.1247 - R2SCORE: 0.5204 - val_loss: 56483.8558 - val_R2SCORE: 0.5097\n",
            "Epoch 25/150\n",
            "14303/14303 [==============================] - 1s 91us/step - loss: 56667.9455 - R2SCORE: 0.5337 - val_loss: 56190.4591 - val_R2SCORE: 0.5155\n",
            "Epoch 26/150\n",
            "14303/14303 [==============================] - 1s 94us/step - loss: 56651.5882 - R2SCORE: 0.5247 - val_loss: 60971.3202 - val_R2SCORE: 0.4309\n",
            "Epoch 27/150\n",
            "14303/14303 [==============================] - 1s 92us/step - loss: 56151.8895 - R2SCORE: 0.5386 - val_loss: 54762.5186 - val_R2SCORE: 0.5297\n",
            "Epoch 28/150\n",
            "14303/14303 [==============================] - 1s 91us/step - loss: 55480.6188 - R2SCORE: 0.5462 - val_loss: 55737.4775 - val_R2SCORE: 0.5128\n",
            "Epoch 29/150\n",
            "14303/14303 [==============================] - 1s 86us/step - loss: 55024.3217 - R2SCORE: 0.5475 - val_loss: 57659.0164 - val_R2SCORE: 0.4758\n",
            "Epoch 30/150\n",
            "14303/14303 [==============================] - 1s 90us/step - loss: 54804.9242 - R2SCORE: 0.5522 - val_loss: 58549.4672 - val_R2SCORE: 0.4651\n",
            "Epoch 31/150\n",
            "14303/14303 [==============================] - 1s 88us/step - loss: 54065.1671 - R2SCORE: 0.5664 - val_loss: 53186.2770 - val_R2SCORE: 0.5487\n",
            "Epoch 32/150\n",
            "14303/14303 [==============================] - 1s 85us/step - loss: 53816.5637 - R2SCORE: 0.5685 - val_loss: 51720.8235 - val_R2SCORE: 0.5741\n",
            "Epoch 33/150\n",
            "14303/14303 [==============================] - 1s 88us/step - loss: 53534.0414 - R2SCORE: 0.5727 - val_loss: 51913.3036 - val_R2SCORE: 0.5663\n",
            "Epoch 34/150\n",
            "14303/14303 [==============================] - 1s 86us/step - loss: 53255.5074 - R2SCORE: 0.5734 - val_loss: 58953.0285 - val_R2SCORE: 0.4587\n",
            "Epoch 35/150\n",
            "14303/14303 [==============================] - 1s 90us/step - loss: 52869.3543 - R2SCORE: 0.5851 - val_loss: 55716.8592 - val_R2SCORE: 0.5063\n",
            "Epoch 36/150\n",
            "14303/14303 [==============================] - 1s 89us/step - loss: 52989.9861 - R2SCORE: 0.5808 - val_loss: 52384.7645 - val_R2SCORE: 0.5550\n",
            "Epoch 37/150\n",
            "14303/14303 [==============================] - 1s 88us/step - loss: 52597.8657 - R2SCORE: 0.5842 - val_loss: 53104.4422 - val_R2SCORE: 0.5460\n",
            "Epoch 38/150\n",
            "14303/14303 [==============================] - 1s 86us/step - loss: 51941.7470 - R2SCORE: 0.5911 - val_loss: 50667.5885 - val_R2SCORE: 0.5786\n",
            "Epoch 39/150\n",
            "14303/14303 [==============================] - 1s 85us/step - loss: 52375.5364 - R2SCORE: 0.5869 - val_loss: 58223.4335 - val_R2SCORE: 0.4681\n",
            "Epoch 40/150\n",
            "14303/14303 [==============================] - 1s 90us/step - loss: 51712.5078 - R2SCORE: 0.5970 - val_loss: 54673.3134 - val_R2SCORE: 0.5197\n",
            "Epoch 41/150\n",
            "14303/14303 [==============================] - 1s 86us/step - loss: 51190.6238 - R2SCORE: 0.6015 - val_loss: 51214.6844 - val_R2SCORE: 0.5702\n",
            "Epoch 42/150\n",
            "14303/14303 [==============================] - 1s 88us/step - loss: 51483.1554 - R2SCORE: 0.5982 - val_loss: 50609.7896 - val_R2SCORE: 0.5777\n",
            "Epoch 43/150\n",
            "14303/14303 [==============================] - 1s 85us/step - loss: 51008.5101 - R2SCORE: 0.6027 - val_loss: 49820.5433 - val_R2SCORE: 0.5869\n",
            "Epoch 44/150\n",
            "14303/14303 [==============================] - 1s 87us/step - loss: 51069.4765 - R2SCORE: 0.6043 - val_loss: 54199.5746 - val_R2SCORE: 0.5276\n",
            "Epoch 45/150\n",
            "14303/14303 [==============================] - 1s 88us/step - loss: 51487.8851 - R2SCORE: 0.5966 - val_loss: 48497.7605 - val_R2SCORE: 0.6062\n",
            "Epoch 46/150\n",
            "14303/14303 [==============================] - 1s 84us/step - loss: 50762.3157 - R2SCORE: 0.6079 - val_loss: 48841.8014 - val_R2SCORE: 0.6039\n",
            "Epoch 47/150\n",
            "14303/14303 [==============================] - 1s 85us/step - loss: 50526.6123 - R2SCORE: 0.6116 - val_loss: 50335.5916 - val_R2SCORE: 0.5833\n",
            "Epoch 48/150\n",
            "14303/14303 [==============================] - 1s 87us/step - loss: 50405.9872 - R2SCORE: 0.6131 - val_loss: 46988.9184 - val_R2SCORE: 0.6263\n",
            "Epoch 49/150\n",
            "14303/14303 [==============================] - 1s 103us/step - loss: 50133.3903 - R2SCORE: 0.6162 - val_loss: 51039.7644 - val_R2SCORE: 0.5693\n",
            "Epoch 50/150\n",
            "14303/14303 [==============================] - 1s 89us/step - loss: 49852.3330 - R2SCORE: 0.6184 - val_loss: 48359.1967 - val_R2SCORE: 0.6066\n",
            "Epoch 51/150\n",
            "14303/14303 [==============================] - 1s 86us/step - loss: 49801.1580 - R2SCORE: 0.6150 - val_loss: 51713.3764 - val_R2SCORE: 0.5608\n",
            "Epoch 52/150\n",
            "14303/14303 [==============================] - 1s 91us/step - loss: 49567.3071 - R2SCORE: 0.6233 - val_loss: 50786.2688 - val_R2SCORE: 0.5705\n",
            "Epoch 53/150\n",
            "14303/14303 [==============================] - 1s 88us/step - loss: 49534.4240 - R2SCORE: 0.6212 - val_loss: 47159.8746 - val_R2SCORE: 0.6220\n",
            "Epoch 54/150\n",
            "14303/14303 [==============================] - 1s 94us/step - loss: 48952.8830 - R2SCORE: 0.6292 - val_loss: 47459.2563 - val_R2SCORE: 0.6236\n",
            "Epoch 55/150\n",
            "14303/14303 [==============================] - 1s 88us/step - loss: 49561.0770 - R2SCORE: 0.6263 - val_loss: 48457.7584 - val_R2SCORE: 0.6022\n",
            "Epoch 56/150\n",
            "14303/14303 [==============================] - 1s 86us/step - loss: 49160.2683 - R2SCORE: 0.6320 - val_loss: 47584.6665 - val_R2SCORE: 0.6195\n",
            "Epoch 57/150\n",
            "14303/14303 [==============================] - 1s 85us/step - loss: 49141.9950 - R2SCORE: 0.6259 - val_loss: 44345.6419 - val_R2SCORE: 0.6646\n",
            "Epoch 58/150\n",
            "14303/14303 [==============================] - 1s 90us/step - loss: 49085.0430 - R2SCORE: 0.6255 - val_loss: 52050.1720 - val_R2SCORE: 0.5580\n",
            "Epoch 59/150\n",
            "14303/14303 [==============================] - 1s 86us/step - loss: 48536.7505 - R2SCORE: 0.6329 - val_loss: 51738.9359 - val_R2SCORE: 0.5570\n",
            "Epoch 60/150\n",
            "14303/14303 [==============================] - 1s 90us/step - loss: 49403.9410 - R2SCORE: 0.6238 - val_loss: 46679.5475 - val_R2SCORE: 0.6302\n",
            "Epoch 61/150\n",
            "14303/14303 [==============================] - 1s 88us/step - loss: 48782.8570 - R2SCORE: 0.6320 - val_loss: 45569.3073 - val_R2SCORE: 0.6421\n",
            "Epoch 62/150\n",
            "14303/14303 [==============================] - 1s 89us/step - loss: 48521.1365 - R2SCORE: 0.6381 - val_loss: 45295.5898 - val_R2SCORE: 0.6447\n",
            "Epoch 63/150\n",
            "14303/14303 [==============================] - 1s 87us/step - loss: 48331.9976 - R2SCORE: 0.6360 - val_loss: 51613.0988 - val_R2SCORE: 0.5559\n",
            "Epoch 64/150\n",
            "14303/14303 [==============================] - 1s 92us/step - loss: 48415.2586 - R2SCORE: 0.6391 - val_loss: 52755.8478 - val_R2SCORE: 0.5499\n",
            "Epoch 65/150\n",
            "14303/14303 [==============================] - 1s 83us/step - loss: 48201.0372 - R2SCORE: 0.6350 - val_loss: 46568.7854 - val_R2SCORE: 0.6289\n",
            "Epoch 66/150\n",
            "14303/14303 [==============================] - 1s 88us/step - loss: 48003.1973 - R2SCORE: 0.6447 - val_loss: 44506.0662 - val_R2SCORE: 0.6574\n",
            "Epoch 67/150\n",
            "14303/14303 [==============================] - 1s 104us/step - loss: 47978.8068 - R2SCORE: 0.6453 - val_loss: 47122.9146 - val_R2SCORE: 0.6188\n",
            "Epoch 68/150\n",
            "14303/14303 [==============================] - 1s 84us/step - loss: 47676.1648 - R2SCORE: 0.6443 - val_loss: 45472.4380 - val_R2SCORE: 0.6427\n",
            "Epoch 69/150\n",
            "14303/14303 [==============================] - 1s 86us/step - loss: 47543.3370 - R2SCORE: 0.6453 - val_loss: 52153.1529 - val_R2SCORE: 0.5586\n",
            "Epoch 70/150\n",
            "14303/14303 [==============================] - 1s 87us/step - loss: 47589.1122 - R2SCORE: 0.6479 - val_loss: 47180.9529 - val_R2SCORE: 0.6230\n",
            "Epoch 71/150\n",
            "14303/14303 [==============================] - 1s 103us/step - loss: 47587.5564 - R2SCORE: 0.6480 - val_loss: 48917.4276 - val_R2SCORE: 0.5964\n",
            "Epoch 72/150\n",
            "14303/14303 [==============================] - 1s 86us/step - loss: 47278.9823 - R2SCORE: 0.6547 - val_loss: 47870.8934 - val_R2SCORE: 0.6095\n",
            "Epoch 73/150\n",
            "14303/14303 [==============================] - 1s 86us/step - loss: 47561.9733 - R2SCORE: 0.6494 - val_loss: 45609.6774 - val_R2SCORE: 0.6402\n",
            "Epoch 74/150\n",
            "14303/14303 [==============================] - 1s 90us/step - loss: 47357.0004 - R2SCORE: 0.6513 - val_loss: 50028.8944 - val_R2SCORE: 0.5916\n",
            "Epoch 75/150\n",
            "14303/14303 [==============================] - 1s 86us/step - loss: 47474.9411 - R2SCORE: 0.6465 - val_loss: 47199.6069 - val_R2SCORE: 0.6181\n",
            "Epoch 76/150\n",
            "14303/14303 [==============================] - 1s 89us/step - loss: 46896.9612 - R2SCORE: 0.6526 - val_loss: 47603.5592 - val_R2SCORE: 0.6070\n",
            "Epoch 77/150\n",
            "14303/14303 [==============================] - 1s 88us/step - loss: 46976.4518 - R2SCORE: 0.6544 - val_loss: 44384.9255 - val_R2SCORE: 0.6520\n",
            "Epoch 78/150\n",
            "14303/14303 [==============================] - 1s 90us/step - loss: 47386.7620 - R2SCORE: 0.6488 - val_loss: 44768.3593 - val_R2SCORE: 0.6500\n",
            "Epoch 79/150\n",
            "14303/14303 [==============================] - 1s 87us/step - loss: 46958.8763 - R2SCORE: 0.6481 - val_loss: 46281.9544 - val_R2SCORE: 0.6266\n",
            "Epoch 80/150\n",
            "14303/14303 [==============================] - 1s 86us/step - loss: 46990.0537 - R2SCORE: 0.6529 - val_loss: 47289.4907 - val_R2SCORE: 0.6184\n",
            "Epoch 81/150\n",
            "14303/14303 [==============================] - 1s 87us/step - loss: 47013.3751 - R2SCORE: 0.6486 - val_loss: 46606.4930 - val_R2SCORE: 0.6219\n",
            "Epoch 82/150\n",
            "14303/14303 [==============================] - 1s 89us/step - loss: 46210.4421 - R2SCORE: 0.6634 - val_loss: 48920.1734 - val_R2SCORE: 0.5996\n",
            "Epoch 83/150\n",
            "14303/14303 [==============================] - 1s 84us/step - loss: 46804.1053 - R2SCORE: 0.6534 - val_loss: 44936.9293 - val_R2SCORE: 0.6499\n",
            "Epoch 84/150\n",
            "14303/14303 [==============================] - 1s 89us/step - loss: 46813.8149 - R2SCORE: 0.6549 - val_loss: 46167.0387 - val_R2SCORE: 0.6340\n",
            "Epoch 85/150\n",
            "14303/14303 [==============================] - 1s 83us/step - loss: 46681.7732 - R2SCORE: 0.6589 - val_loss: 45893.6787 - val_R2SCORE: 0.6353\n",
            "Epoch 86/150\n",
            "14303/14303 [==============================] - 1s 89us/step - loss: 45962.1987 - R2SCORE: 0.6651 - val_loss: 42394.9823 - val_R2SCORE: 0.6806\n",
            "Epoch 87/150\n",
            "14303/14303 [==============================] - 1s 85us/step - loss: 46309.9401 - R2SCORE: 0.6621 - val_loss: 43621.8091 - val_R2SCORE: 0.6620\n",
            "Epoch 88/150\n",
            "14303/14303 [==============================] - 1s 89us/step - loss: 46167.3985 - R2SCORE: 0.6626 - val_loss: 44474.0460 - val_R2SCORE: 0.6522\n",
            "Epoch 89/150\n",
            "14303/14303 [==============================] - 1s 88us/step - loss: 46308.7529 - R2SCORE: 0.6622 - val_loss: 46684.2659 - val_R2SCORE: 0.6262\n",
            "Epoch 90/150\n",
            "14303/14303 [==============================] - 1s 87us/step - loss: 46351.8261 - R2SCORE: 0.6585 - val_loss: 47757.1217 - val_R2SCORE: 0.6164\n",
            "Epoch 91/150\n",
            "14303/14303 [==============================] - 1s 90us/step - loss: 45942.4743 - R2SCORE: 0.6659 - val_loss: 46952.8161 - val_R2SCORE: 0.6222\n",
            "Epoch 92/150\n",
            "14303/14303 [==============================] - 1s 88us/step - loss: 46014.1988 - R2SCORE: 0.6676 - val_loss: 45328.2975 - val_R2SCORE: 0.6438\n",
            "Epoch 93/150\n",
            "14303/14303 [==============================] - 1s 87us/step - loss: 46267.8921 - R2SCORE: 0.6595 - val_loss: 46646.4402 - val_R2SCORE: 0.6227\n",
            "Epoch 94/150\n",
            "14303/14303 [==============================] - 1s 88us/step - loss: 46141.4722 - R2SCORE: 0.6611 - val_loss: 41519.8810 - val_R2SCORE: 0.6963\n",
            "Epoch 95/150\n",
            "14303/14303 [==============================] - 1s 88us/step - loss: 46286.2683 - R2SCORE: 0.6643 - val_loss: 43695.9424 - val_R2SCORE: 0.6614\n",
            "Epoch 96/150\n",
            "14303/14303 [==============================] - 1s 103us/step - loss: 45843.3694 - R2SCORE: 0.6654 - val_loss: 46661.2349 - val_R2SCORE: 0.6284\n",
            "Epoch 97/150\n",
            "14303/14303 [==============================] - 1s 88us/step - loss: 45906.6596 - R2SCORE: 0.6652 - val_loss: 43724.7346 - val_R2SCORE: 0.6639\n",
            "Epoch 98/150\n",
            "14303/14303 [==============================] - 1s 88us/step - loss: 45478.3833 - R2SCORE: 0.6720 - val_loss: 44553.4318 - val_R2SCORE: 0.6507\n",
            "Epoch 99/150\n",
            "14303/14303 [==============================] - 1s 90us/step - loss: 45901.5845 - R2SCORE: 0.6659 - val_loss: 45821.8661 - val_R2SCORE: 0.6352\n",
            "Epoch 100/150\n",
            "14303/14303 [==============================] - 1s 90us/step - loss: 45643.8139 - R2SCORE: 0.6684 - val_loss: 41212.6318 - val_R2SCORE: 0.6929\n",
            "Epoch 101/150\n",
            "14303/14303 [==============================] - 1s 88us/step - loss: 45362.1691 - R2SCORE: 0.6722 - val_loss: 43556.9859 - val_R2SCORE: 0.6607\n",
            "Epoch 102/150\n",
            "14303/14303 [==============================] - 1s 91us/step - loss: 45884.3397 - R2SCORE: 0.6653 - val_loss: 44210.9344 - val_R2SCORE: 0.6565\n",
            "Epoch 103/150\n",
            "14303/14303 [==============================] - 1s 88us/step - loss: 45569.0354 - R2SCORE: 0.6699 - val_loss: 47176.8286 - val_R2SCORE: 0.6208\n",
            "Epoch 104/150\n",
            "14303/14303 [==============================] - 1s 88us/step - loss: 45488.9738 - R2SCORE: 0.6693 - val_loss: 48524.7210 - val_R2SCORE: 0.6060\n",
            "Epoch 105/150\n",
            "14303/14303 [==============================] - 1s 86us/step - loss: 45374.9934 - R2SCORE: 0.6730 - val_loss: 43634.0157 - val_R2SCORE: 0.6641\n",
            "Epoch 106/150\n",
            "14303/14303 [==============================] - 1s 87us/step - loss: 45404.3860 - R2SCORE: 0.6685 - val_loss: 44474.5606 - val_R2SCORE: 0.6530\n",
            "Epoch 107/150\n",
            "14303/14303 [==============================] - 1s 89us/step - loss: 45813.0087 - R2SCORE: 0.6621 - val_loss: 45888.2557 - val_R2SCORE: 0.6332\n",
            "Epoch 108/150\n",
            "14303/14303 [==============================] - 1s 87us/step - loss: 45264.2486 - R2SCORE: 0.6737 - val_loss: 43567.8599 - val_R2SCORE: 0.6640\n",
            "Epoch 109/150\n",
            "14303/14303 [==============================] - 1s 89us/step - loss: 45127.0610 - R2SCORE: 0.6761 - val_loss: 42201.8299 - val_R2SCORE: 0.6839\n",
            "Epoch 110/150\n",
            "14303/14303 [==============================] - 1s 88us/step - loss: 45112.2920 - R2SCORE: 0.6740 - val_loss: 44012.3755 - val_R2SCORE: 0.6577\n",
            "Epoch 111/150\n",
            "14303/14303 [==============================] - 1s 89us/step - loss: 44730.6445 - R2SCORE: 0.6804 - val_loss: 42783.3537 - val_R2SCORE: 0.6765\n",
            "Epoch 112/150\n",
            "14303/14303 [==============================] - 1s 84us/step - loss: 45339.0656 - R2SCORE: 0.6722 - val_loss: 44486.6997 - val_R2SCORE: 0.6510\n",
            "Epoch 113/150\n",
            "14303/14303 [==============================] - 1s 87us/step - loss: 44985.9411 - R2SCORE: 0.6770 - val_loss: 45391.1781 - val_R2SCORE: 0.6413\n",
            "Epoch 114/150\n",
            "14303/14303 [==============================] - 1s 104us/step - loss: 44800.6458 - R2SCORE: 0.6766 - val_loss: 41233.1871 - val_R2SCORE: 0.6931\n",
            "Epoch 115/150\n",
            "14303/14303 [==============================] - 1s 87us/step - loss: 45054.2232 - R2SCORE: 0.6749 - val_loss: 42087.9174 - val_R2SCORE: 0.6820\n",
            "Epoch 116/150\n",
            "14303/14303 [==============================] - 1s 87us/step - loss: 44628.5589 - R2SCORE: 0.6801 - val_loss: 44418.7077 - val_R2SCORE: 0.6545\n",
            "Epoch 117/150\n",
            "14303/14303 [==============================] - 1s 85us/step - loss: 44811.4895 - R2SCORE: 0.6801 - val_loss: 43419.5813 - val_R2SCORE: 0.6719\n",
            "Epoch 118/150\n",
            "14303/14303 [==============================] - 1s 104us/step - loss: 44806.0890 - R2SCORE: 0.6778 - val_loss: 41403.0578 - val_R2SCORE: 0.6905\n",
            "Epoch 119/150\n",
            "14303/14303 [==============================] - 1s 88us/step - loss: 45178.7553 - R2SCORE: 0.6693 - val_loss: 44734.4695 - val_R2SCORE: 0.6495\n",
            "Epoch 120/150\n",
            "14303/14303 [==============================] - 1s 86us/step - loss: 44776.1131 - R2SCORE: 0.6773 - val_loss: 42509.0218 - val_R2SCORE: 0.6774\n",
            "Epoch 121/150\n",
            "14303/14303 [==============================] - 1s 90us/step - loss: 44728.8955 - R2SCORE: 0.6772 - val_loss: 41812.4024 - val_R2SCORE: 0.6889\n",
            "Epoch 122/150\n",
            "14303/14303 [==============================] - 1s 93us/step - loss: 44389.4020 - R2SCORE: 0.6818 - val_loss: 43479.5629 - val_R2SCORE: 0.6671\n",
            "Epoch 123/150\n",
            "14303/14303 [==============================] - 1s 96us/step - loss: 44072.3358 - R2SCORE: 0.6847 - val_loss: 41232.2095 - val_R2SCORE: 0.6941\n",
            "Epoch 124/150\n",
            "14303/14303 [==============================] - 1s 91us/step - loss: 44645.7056 - R2SCORE: 0.6811 - val_loss: 43197.9097 - val_R2SCORE: 0.6680\n",
            "Epoch 125/150\n",
            "14303/14303 [==============================] - 1s 94us/step - loss: 44512.6983 - R2SCORE: 0.6793 - val_loss: 43294.6478 - val_R2SCORE: 0.6711\n",
            "Epoch 126/150\n",
            "14303/14303 [==============================] - 1s 93us/step - loss: 44431.1940 - R2SCORE: 0.6833 - val_loss: 40851.3070 - val_R2SCORE: 0.6979\n",
            "Epoch 127/150\n",
            "14303/14303 [==============================] - 1s 92us/step - loss: 44257.5694 - R2SCORE: 0.6873 - val_loss: 42299.1839 - val_R2SCORE: 0.6794\n",
            "Epoch 128/150\n",
            "14303/14303 [==============================] - 1s 91us/step - loss: 44745.2255 - R2SCORE: 0.6766 - val_loss: 41038.4261 - val_R2SCORE: 0.6947\n",
            "Epoch 129/150\n",
            "14303/14303 [==============================] - 1s 92us/step - loss: 44043.6563 - R2SCORE: 0.6838 - val_loss: 42835.1416 - val_R2SCORE: 0.6748\n",
            "Epoch 130/150\n",
            "14303/14303 [==============================] - 1s 89us/step - loss: 44208.5537 - R2SCORE: 0.6829 - val_loss: 44049.8610 - val_R2SCORE: 0.6610\n",
            "Epoch 131/150\n",
            "14303/14303 [==============================] - 1s 90us/step - loss: 44338.6377 - R2SCORE: 0.6860 - val_loss: 39842.6419 - val_R2SCORE: 0.7164\n",
            "Epoch 132/150\n",
            "14303/14303 [==============================] - 1s 84us/step - loss: 44001.4382 - R2SCORE: 0.6900 - val_loss: 40962.2570 - val_R2SCORE: 0.7000\n",
            "Epoch 133/150\n",
            "14303/14303 [==============================] - 1s 86us/step - loss: 44120.6287 - R2SCORE: 0.6876 - val_loss: 41380.6028 - val_R2SCORE: 0.6910\n",
            "Epoch 134/150\n",
            "14303/14303 [==============================] - 1s 90us/step - loss: 44077.6164 - R2SCORE: 0.6903 - val_loss: 41073.1529 - val_R2SCORE: 0.6938\n",
            "Epoch 135/150\n",
            "14303/14303 [==============================] - 1s 85us/step - loss: 44441.1529 - R2SCORE: 0.6812 - val_loss: 39760.5391 - val_R2SCORE: 0.7127\n",
            "Epoch 136/150\n",
            "14303/14303 [==============================] - 1s 90us/step - loss: 44495.4336 - R2SCORE: 0.6845 - val_loss: 46000.5655 - val_R2SCORE: 0.6376\n",
            "Epoch 137/150\n",
            "14303/14303 [==============================] - 1s 86us/step - loss: 44431.6409 - R2SCORE: 0.6838 - val_loss: 43449.8998 - val_R2SCORE: 0.6654\n",
            "Epoch 138/150\n",
            "14303/14303 [==============================] - 1s 85us/step - loss: 43860.3255 - R2SCORE: 0.6920 - val_loss: 43070.1682 - val_R2SCORE: 0.6676\n",
            "Epoch 139/150\n",
            "14303/14303 [==============================] - 1s 84us/step - loss: 43706.1848 - R2SCORE: 0.6894 - val_loss: 40053.9730 - val_R2SCORE: 0.7082\n",
            "Epoch 140/150\n",
            "14303/14303 [==============================] - 1s 87us/step - loss: 44413.2514 - R2SCORE: 0.6844 - val_loss: 43422.6664 - val_R2SCORE: 0.6641\n",
            "Epoch 141/150\n",
            "14303/14303 [==============================] - 1s 85us/step - loss: 43837.4829 - R2SCORE: 0.6892 - val_loss: 41143.9909 - val_R2SCORE: 0.6942\n",
            "Epoch 142/150\n",
            "14303/14303 [==============================] - 1s 86us/step - loss: 43772.7988 - R2SCORE: 0.6884 - val_loss: 45035.9398 - val_R2SCORE: 0.6478\n",
            "Epoch 143/150\n",
            "14303/14303 [==============================] - 1s 102us/step - loss: 43761.6327 - R2SCORE: 0.6964 - val_loss: 40302.8005 - val_R2SCORE: 0.7060\n",
            "Epoch 144/150\n",
            "14303/14303 [==============================] - 1s 88us/step - loss: 43852.8996 - R2SCORE: 0.6884 - val_loss: 40665.2643 - val_R2SCORE: 0.6988\n",
            "Epoch 145/150\n",
            "14303/14303 [==============================] - 1s 89us/step - loss: 43722.8857 - R2SCORE: 0.6894 - val_loss: 44925.1727 - val_R2SCORE: 0.6506\n",
            "Epoch 146/150\n",
            "14303/14303 [==============================] - 1s 88us/step - loss: 43668.6705 - R2SCORE: 0.6898 - val_loss: 44462.2149 - val_R2SCORE: 0.6560\n",
            "Epoch 147/150\n",
            "14303/14303 [==============================] - 1s 87us/step - loss: 43999.9998 - R2SCORE: 0.6869 - val_loss: 41970.5408 - val_R2SCORE: 0.6833\n",
            "Epoch 148/150\n",
            "14303/14303 [==============================] - 1s 92us/step - loss: 44006.8943 - R2SCORE: 0.6877 - val_loss: 42094.2949 - val_R2SCORE: 0.6818\n",
            "Epoch 149/150\n",
            "14303/14303 [==============================] - 1s 88us/step - loss: 44171.3768 - R2SCORE: 0.6852 - val_loss: 41231.5945 - val_R2SCORE: 0.6955\n",
            "Epoch 150/150\n",
            "14303/14303 [==============================] - 1s 91us/step - loss: 43192.9161 - R2SCORE: 0.7001 - val_loss: 40238.7631 - val_R2SCORE: 0.7057\n"
          ],
          "name": "stdout"
        }
      ]
    },
    {
      "cell_type": "code",
      "metadata": {
        "id": "Fs88fHmCGEV4",
        "colab_type": "code",
        "colab": {}
      },
      "source": [
        "# Save the model \n",
        "model.save('0883145_1dconv_reg.h5')"
      ],
      "execution_count": 0,
      "outputs": []
    },
    {
      "cell_type": "code",
      "metadata": {
        "id": "fe9R8ldkQ1H5",
        "colab_type": "code",
        "outputId": "6c71ab59-089f-4020-a6a8-a135f0d933c9",
        "colab": {
          "base_uri": "https://localhost:8080/",
          "height": 564
        }
      },
      "source": [
        "# Plot the change of the L1 loss and R2 score\n",
        "\n",
        "x=range(1,epochs+1)\n",
        "test_loss=history.history['val_loss']\n",
        "train_loss=history.history['loss']\n",
        "test_r2=history.history['val_R2SCORE']\n",
        "train_r2=history.history['R2SCORE']\n",
        "\n",
        "plt.plot(x, test_loss,'r')\n",
        "plt.plot(x, train_loss,'g')\n",
        "plt.title('Training and Testing Loss')\n",
        "plt.legend(['test L1 loss', 'train L1 loss'])\n",
        "\n",
        "plt.figure()\n",
        "plt.plot(x, test_r2, 'b')\n",
        "plt.plot(x, train_r2, 'violet')\n",
        "plt.title('Training and Testing R2 Score')\n",
        "plt.legend(['test R2 score', 'train R2 Score'])"
      ],
      "execution_count": 19,
      "outputs": [
        {
          "output_type": "execute_result",
          "data": {
            "text/plain": [
              "<matplotlib.legend.Legend at 0x7f14466b82e8>"
            ]
          },
          "metadata": {
            "tags": []
          },
          "execution_count": 19
        },
        {
          "output_type": "display_data",
          "data": {
            "image/png": "[encoded data removed]",
            "text/plain": [
              "<Figure size 432x288 with 1 Axes>"
            ]
          },
          "metadata": {
            "tags": []
          }
        },
        {
          "output_type": "display_data",
          "data": {
            "image/png": "[encoded data removed]",
            "text/plain": [
              "<Figure size 432x288 with 1 Axes>"
            ]
          },
          "metadata": {
            "tags": []
          }
        }
      ]
    },
    {
      "cell_type": "code",
      "metadata": {
        "id": "PTdfFFvK1eLd",
        "colab_type": "code",
        "outputId": "e7cddf08-6904-4e33-fd69-d55f4425aff5",
        "colab": {
          "base_uri": "https://localhost:8080/",
          "height": 68
        }
      },
      "source": [
        "# Print the result of the last epoch\n",
        "print('The final result at', epochs, 'epoch:')\n",
        "print('The L1 loss:', test_loss[epochs-1])\n",
        "print('The R2 score:', test_r2[epochs-1])"
      ],
      "execution_count": 20,
      "outputs": [
        {
          "output_type": "stream",
          "text": [
            "The final result at 150 epoch:\n",
            "The L1 loss: 40238.76307606036\n",
            "The R2 score: 0.7057091304178533\n"
          ],
          "name": "stdout"
        }
      ]
    },
    {
      "cell_type": "code",
      "metadata": {
        "id": "zem3hCgfxzqH",
        "colab_type": "code",
        "outputId": "802d231a-73b0-4adc-9944-62793a746e3a",
        "colab": {
          "base_uri": "https://localhost:8080/",
          "height": 85
        }
      },
      "source": [
        "# Print the best evaluation occured during training\n",
        "print('After', epochs, 'epochs')\n",
        "print('The minimum L1 Loss is:', np.min(test_loss))\n",
        "print('The corresponding R2 score is:', np.max(test_r2))\n",
        "print('The best result occurs at the', np.argmax(test_r2)+1, 'epoch.')"
      ],
      "execution_count": 21,
      "outputs": [
        {
          "output_type": "stream",
          "text": [
            "After 150 epochs\n",
            "The minimum L1 Loss is: 39760.53912749796\n",
            "The corresponding R2 score is: 0.7164230799986138\n",
            "The best result occurs at the 131 epoch.\n"
          ],
          "name": "stdout"
        }
      ]
    }
  ]
}